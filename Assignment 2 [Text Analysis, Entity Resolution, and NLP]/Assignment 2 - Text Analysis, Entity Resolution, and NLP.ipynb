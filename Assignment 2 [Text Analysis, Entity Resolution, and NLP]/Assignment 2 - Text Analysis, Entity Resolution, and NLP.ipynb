{
 "cells": [
  {
   "cell_type": "markdown",
   "metadata": {},
   "source": [
    "<img src=\"Branded_Logo_CUDenver.PNG\" width=\"150\">\n",
    "\n",
    "## <center>CSCI 4580/5580 - Data Science – Spring 2022</center>\n",
    "<center>Assignment 2: Text Analysis, Entity Resolution, and NLP</center><center><font color='red'>Deadline: April 18, 2022 - 11:59 PM</font></center><center>Total Points: 100</center>"
   ]
  },
  {
   "cell_type": "markdown",
   "metadata": {},
   "source": [
    "## Instructions\n",
    "- Please note that this assignment must be done individually. By submitting this assignment, you certify that this is your own work, your code will be checked against other submissions and resources using automatic tools. Everyone should be getting a hands on experience in this course. You are free to discuss course material with fellow students, and we encourage you to use Internet resources to aid your understanding, but the work you turn in, including all code and answers, must be your own work."
   ]
  },
  {
   "cell_type": "markdown",
   "metadata": {},
   "source": [
    "## Deliverables\n",
    "You need to submit a single .ipynb file on Canvas, named your-lastname_your-first-name.ipynb. For example, if your name is John Smith, you should name the file smith_john.ipynb.\n",
    "- Please do not include extra files such as the input datasets in your submission.\n",
    "- Answer Questions 1 - 14 in the designated cells. Please do not add or remove any cells. \n",
    "- Please download your submission file after submission and make sure it is not corrupted. Use the 'Run All' option from the 'Cell' menu to ensure all cells run without any issues. We will not be responsible for corrupted submissions and will not take a resubmission after the deadline."
   ]
  },
  {
   "cell_type": "markdown",
   "metadata": {},
   "source": [
    "## Need Help?\n",
    "If you need help with this lab, please email me at sundous.hussein@ucdenver.edu or come to my office hours. We also encourage you to ask your questions on the designated channel for the assignment on Microsoft Teams. This way, you may receive assistance from your classmates that might’ve ran through the same issues."
   ]
  },
  {
   "cell_type": "markdown",
   "metadata": {},
   "source": [
    "Let's Get Started!\n",
    "===\n",
    "\n",
    "## Overview\n",
    "\n",
    "Entity resolution is a common, yet difficult problem in data cleaning and integration.\n",
    "In this assignment, we will use powerful and scalable text analysis techniques to perform entity resolution across two data sets of commercial products."
   ]
  },
  {
   "cell_type": "markdown",
   "metadata": {},
   "source": [
    "### Entity Resolution\n",
    "\n",
    "Entity resolution, also known as record deduplication, is the process of identifying rows in one or more data sets that refer to the same real world entity.\n",
    "Take an example.\n",
    "You're on ebay looking for a [hip data science accessory][sliderulewiki], but you're on a budget, so you decide to scrape the [ebay listings][ebay] for a few days to get a feel for the market.\n",
    "Unfortunately, the listings are confusing and you don't know how to aggregate them.\n",
    "Entity resolution to the rescue!\n",
    "You find an [authoritative database][sliderules] and map all the ebay listings to it.\n",
    "Now you can compare shop, get that sweet Keuffel and Esser for way cheap, and impress all the data hipsters.\n",
    "\n",
    "But finding matching records is a hard problem in general.\n",
    "A major reason is that the criteria for identifying duplicates are often vague and impossible to encode in rules.\n",
    "In addition, from a purely computational perspective, the problem is quadratic in the size of its inputs: naively, all pairs of records need to be compared to find all the duplicates.\n",
    "In this assignment, we will begin to address both these challenges.\n",
    "\n",
    "[sliderulewiki]: http://en.wikipedia.org/wiki/Slide_rule \"Only 2X faster than Hadoop\"\n",
    "\n",
    "[sliderules]: http://www.sliderule.ca/ \"Artisanal Data Technology\"\n",
    "\n",
    "[ebay]: http://www.ebay.com/sch/i.html?_odkw=keuffel+esser+slide+rule&_osacat=0&_trksid=p2045573.m570.l1313.TR0.TRC0.Xslide+rule&_nkw=slide+rule&_sacat=0&_from=R40 \"Impress your colleagues\""
   ]
  },
  {
   "cell_type": "markdown",
   "metadata": {},
   "source": [
    "\n",
    "### Application\n",
    "\n",
    "Your assignment is to perform entity resolution over two web-scraped data sets of commercial product listings, one from Amazon, and one from Google.\n",
    "The goal is to build a unified database of all products listed on the Internet: a one-stop-shop for all your shopping needs.  (Elevator pitch: *it's like **Kayak.com** for **e-commerce**!*)\n",
    "\n",
    "The web has made unprecedented amounts of data available publicly, but scraped data frequently needs to be de-duplicated.\n",
    "These data sets are typical examples of what you can collect with some simple scripting.\n",
    "The data is not especially large (just a few thousand records), but even so, you will find that entity resolution is a major challenge (top results with this data are ~50% success rate).\n",
    "Don't get discouraged; the goal is to get acquainted with techniques to tackle the problem, and apply them to a representative example."
   ]
  },
  {
   "cell_type": "markdown",
   "metadata": {},
   "source": [
    "### Files\n",
    "\n",
    "Data files for this assignment:\n",
    "\n",
    "* **Google_small.csv**, 200 records sampled from the Google data.\n",
    "* **Amazon_small.csv**, 200 records sampled from the Amazon data.\n",
    "* **Amazon_Google_perfectMapping.csv**, the \"gold standard\" mapping of duplicates.\n",
    "* **stopwords.txt**, a list of common English words.\n",
    "\n",
    "Besides the complete data files, there are \"sample\" data files for each data set.\n",
    "Use these for **Part 1**.\n",
    "In addition, there is a \"gold standard\" file that contains all of the true mappings between duplicate entities in the two data sets.\n",
    "Every row in the gold standard file has a pair of record IDs (one Google, one Amazon) that belong to two records that describe the same thing in the real world.\n",
    "We will use the gold standard to evaluate our algorithms."
   ]
  },
  {
   "cell_type": "markdown",
   "metadata": {},
   "source": [
    "## Part 0: Preliminaries\n",
    "Download the data from Canvas and uncompress/unarchive it.\n",
    "Read each file in from the file system, and store them in Pandas DataFrames.\n",
    "\n",
    "For each of the data files (\"Google_small.csv\", \"Amazon_small.csv\"), we want to parse the IDs out of each record.\n",
    "The IDs are the first column of the file (they are URLs for Google, and alphanumeric strings for Amazon).\n"
   ]
  },
  {
   "cell_type": "code",
   "execution_count": 1,
   "metadata": {
    "scrolled": true
   },
   "outputs": [
    {
     "name": "stdout",
     "output_type": "stream",
     "text": [
      "Requirement already satisfied: nltk in c:\\users\\kerry\\anaconda3\\lib\\site-packages (3.5)\n",
      "Requirement already satisfied: regex in c:\\users\\kerry\\anaconda3\\lib\\site-packages (from nltk) (2020.10.15)\n",
      "Requirement already satisfied: tqdm in c:\\users\\kerry\\anaconda3\\lib\\site-packages (from nltk) (4.50.2)\n",
      "Requirement already satisfied: click in c:\\users\\kerry\\anaconda3\\lib\\site-packages (from nltk) (7.1.2)\n",
      "Requirement already satisfied: joblib in c:\\users\\kerry\\anaconda3\\lib\\site-packages (from nltk) (0.17.0)\n"
     ]
    }
   ],
   "source": [
    "!pip install nltk"
   ]
  },
  {
   "cell_type": "code",
   "execution_count": 2,
   "metadata": {},
   "outputs": [],
   "source": [
    "import pandas as pd\n",
    "import numpy as np\n",
    "import nltk\n",
    "import glob\n",
    "import csv\n",
    "import re"
   ]
  },
  {
   "cell_type": "markdown",
   "metadata": {},
   "source": [
    "#### Question 1 [5 Points]\n",
    "The two files we will use for this section are:\n",
    "* Amazon_small.csv\n",
    "* Google_small.csv\n",
    "\n",
    "Each file contains the columns `id`,`name`,`description`,`manufacturer`, and `price` in this order.\n",
    "\n",
    "**Question 1.A -** Download the data and read each of the below files into a Pandas Dataframe. The `amazon_small` variable is shown as an example.\n",
    "\n",
    "**Question 1.B -** Set the `id` column as the index of the Dataframe for all of the files. For the \"Amazon\" file, the values in the `id` column are usable as-is. However, the Google file has URLs in the `id` column, which are clumsy to use as ids. Strip out the id number (the number at the end of the URL) for each value in the `id` column in the Google file and use these id numbers as the index."
   ]
  },
  {
   "cell_type": "code",
   "execution_count": 3,
   "metadata": {},
   "outputs": [],
   "source": [
    "# Question 1.A\n",
    "amazon_small = pd.read_csv(\"Amazon_small.csv\",encoding=\"latin-1\",dtype=str,quotechar='\"',keep_default_na=False)\n",
    "google_small = pd.read_csv(\"Google_small.csv\",encoding=\"latin-1\",dtype=str,quotechar='\"',keep_default_na=False)"
   ]
  },
  {
   "cell_type": "markdown",
   "metadata": {},
   "source": [
    "**TIP:** The rsplit function splits a string into a list of string using a specified delimiter. `rsplit` starts at the end of the string, `split` starts at the front. The `maxsplit` parameter controls how many splits are performed.\n",
    "\n",
    "**Bonus TIP:** We recommend creating a function (or using a lambda), then using the Dataframe `apply` function to apply your function over the `id` column."
   ]
  },
  {
   "cell_type": "code",
   "execution_count": 6,
   "metadata": {},
   "outputs": [
    {
     "name": "stdout",
     "output_type": "stream",
     "text": [
      "['http://mylegitmate.biz/files/2020', '2053942']\n",
      "2053942\n"
     ]
    }
   ],
   "source": [
    "# Example of splitting a fake URL using rsplit\n",
    "my_fake_url = \"http://mylegitmate.biz/files/2020/2053942\"\n",
    "my_fake_url_split = my_fake_url.rsplit(\"/\",maxsplit=1)\n",
    "print(my_fake_url_split)\n",
    "\n",
    "# Last element in the list is the ID we want.\n",
    "print(my_fake_url_split[-1])"
   ]
  },
  {
   "cell_type": "code",
   "execution_count": 7,
   "metadata": {},
   "outputs": [],
   "source": [
    "# Question 1. B\n",
    "# Set the index of amazon_small to be the \"id\" column\n",
    "amazon_small.set_index(\"id\", inplace = True)\n",
    "\n",
    "# Transform the id columns of the google dataset to strip out the URL\n",
    "#take the id column, split it all into new columns at every /\n",
    "googleID = google_small['id'].str.split('/', expand = True)\n",
    "\n",
    "\n",
    "# Set the index of the google datasets to be the \"id\" column\n",
    "#now we replace with the last column\n",
    "google_small['id'] = googleID.iloc[: , -1]\n",
    "google_small.set_index(\"id\", inplace = True)"
   ]
  },
  {
   "cell_type": "markdown",
   "metadata": {},
   "source": [
    "Since all of the columns are Series containing strings, we can use the `+` operator to combine the columns together, creating a new column that is the string concatenation of the `name`, `description`, and `manufacturer` columns. This means we only need to tokenize one string per row/entry."
   ]
  },
  {
   "cell_type": "code",
   "execution_count": 8,
   "metadata": {},
   "outputs": [],
   "source": [
    "def concat_columns(series):\n",
    "    return \" \".join([series.title,series.description,series.manufacturer])\n",
    "\n",
    "amazon_small[\"all_text\"] = amazon_small.apply(concat_columns,axis=1)\n",
    "google_small[\"all_text\"] = google_small.apply(concat_columns,axis=1)"
   ]
  },
  {
   "cell_type": "markdown",
   "metadata": {},
   "source": [
    "## Part 1: ER using Text Similarity\n",
    "\n",
    "A simple approach to entity resolution is to treat all records as strings and compute their similarity with a string distance function.\n",
    "In this section, we will build some components for bag-of-words text-analysis, and use them to compute record similarity.\n",
    "\n",
    "### 1.1 Bags of Words\n",
    "\n",
    "Bag-of-words is a conceptually simple yet powerful approach to text analysis.\n",
    "The idea is to treat strings, a.k.a. **documents**, as *unordered collections* of words, or **tokens**, i.e., as bags of words.\n",
    "\n",
    "> **Note on terminology**: \"token\" is more general than what we ordinarily mean by \"word\" and includes things like numbers, acronyms, and other exotica like word-roots and fixed-length character strings.\n",
    "> Bag of words techniques all apply to any sort of token, so when we say \"bag-of-words\" we really mean \"bag-of-tokens,\" strictly speaking.\n",
    "\n",
    "Tokens become the atomic unit of text comparison.\n",
    "If we want to compare two documents, we count how many tokens they share in common.\n",
    "If we want to search for documents with keyword queries (this is what Google does), then we turn the keywords into tokens and find documents that contain them.\n",
    "\n",
    "The power of this approach is that it makes string comparisons insensitive to small differences that probably do not affect meaning much, for example, punctuation and word order.\n",
    "\n"
   ]
  },
  {
   "cell_type": "code",
   "execution_count": 9,
   "metadata": {},
   "outputs": [],
   "source": [
    "from nltk.tokenize import regexp_tokenize\n",
    "quickbrownfox = \"A quick brown fox jumps over the lazy dog.\"\n",
    "split_regex = r'[a-zA-Z_]+'"
   ]
  },
  {
   "cell_type": "markdown",
   "metadata": {},
   "source": [
    "#### Question 2 [5 points]\n",
    "\n",
    "Implement the function `simple_tokenize(string)` that takes a string and returns a list of tokens in the string. `simple_tokenize` should split strings using the provided regular expression, and **convert the strings to lowercase**. \n",
    "\n",
    "\n",
    "**Tip:**\n",
    "*The NLTK toolkit provides many functions for tokenizing words, some of which use special pre-trained models. For this question, you may use the `regexp_tokenize` function, which splits a string based on a given regular expression. You may also use python's built-in `re` library to match the regular expression if you wish.* `regexp_tokenize` will split the string, but you must perform the lowercase conversion yourself."
   ]
  },
  {
   "cell_type": "code",
   "execution_count": 10,
   "metadata": {},
   "outputs": [
    {
     "name": "stdout",
     "output_type": "stream",
     "text": [
      "['a', 'quick', 'brown', 'fox', 'jumps', 'over', 'the', 'lazy', 'dog']\n"
     ]
    }
   ],
   "source": [
    "# Implement this function\n",
    "def simple_tokenize(string):\n",
    "    #lower case\n",
    "    string = string.lower()\n",
    "    #library to convert \n",
    "    ew_regex = regexp_tokenize(string,split_regex)\n",
    "    return ew_regex\n",
    "    \n",
    "\n",
    "print(simple_tokenize(quickbrownfox)) # Should give ['a', 'quick', 'brown', ... ]\n",
    "\n",
    "# Simple testcases\n",
    "assert(simple_tokenize(\" \") == [])\n",
    "assert(simple_tokenize(quickbrownfox) == ['a','quick','brown','fox','jumps','over','the','lazy','dog'])"
   ]
  },
  {
   "cell_type": "markdown",
   "metadata": {},
   "source": [
    "#### Question 3 [5 points]\n",
    "Give an interpretation of what the regular expression `split_regex` is doing.\n",
    "\n",
    "***Answer this question here***  \n",
    "\n",
    "split_regex = r'[a-zA-Z_]+'  \n",
    "so if we break it down and using the python RE cheatsheet    \n",
    "<b> Reference: </b>   \n",
    "https://www.dataquest.io/blog/regex-cheatsheet/   \n",
    "   \n",
    "     \n",
    "[a-zA-Z] matches any alphabet letter from a-z, either lowercase or capital case.   \n",
    "\"+\" greedily matches the expression to its left    \n",
    "split_regex basically splits all of the words with whitespaces  "
   ]
  },
  {
   "cell_type": "markdown",
   "metadata": {},
   "source": [
    "#### Question 4 [10 points]\n",
    "\n",
    "Stopwords are common words that do not contribute much to the content or meaning of a document (e.g., \"the\", \"a\", \"is\", \"to\", etc.). Stopwords add noise to bag-of-words comparisons, and are usually excluded. \n",
    "\n",
    "Using the included file \"stopwords.txt\", implement tokenize, an improved tokenizer that does not emit stopwords.\n",
    "\n",
    "You may use a method of your choosing to read in the \"stopwords.txt\" file (Suggested methods are Pandas `read_csv` and Python's `csv` library).\n",
    "\n",
    "**TIP:** *We recommend converting the list of stop words to a python `set` so that you can easily test membership using the `in` operator (i.e. `x in y` returns `True` if `x` is a member of set `y`).*"
   ]
  },
  {
   "cell_type": "code",
   "execution_count": 11,
   "metadata": {
    "scrolled": true
   },
   "outputs": [
    {
     "name": "stdout",
     "output_type": "stream",
     "text": [
      "['quick', 'brown', 'fox', 'jumps', 'lazy', 'dog']\n"
     ]
    }
   ],
   "source": [
    "stopwords = pd.read_csv(\"stopwords.txt\", header = None)\n",
    "stopwords = stopwords.iloc[:, 0].tolist()\n",
    "#print(stopwords)\n",
    "\n",
    "# Implement this function\n",
    "def tokenize(string):\n",
    "    #call function\n",
    "    string = simple_tokenize(string)\n",
    "    someList = []\n",
    "    \n",
    "    #if stopwords isin string, remove string\n",
    "    #oh we can't use df, its just a string so we gotta use a double for loop\n",
    "    for extension in string:\n",
    "        if extension not in stopwords:\n",
    "            someList.append(extension)\n",
    "    return someList\n",
    "\n",
    "  \n",
    "    \n",
    "\n",
    "print(tokenize(quickbrownfox)) # Should give ['quick', 'brown', ... ]\n",
    "\n",
    "assert(tokenize(\"Why a the?\") == [])\n",
    "assert(tokenize(quickbrownfox) == ['quick','brown','fox','jumps','lazy','dog'])"
   ]
  },
  {
   "cell_type": "markdown",
   "metadata": {},
   "source": [
    "### 1.2 Weighted Bag-of-Words: TF-IDF\n",
    "\n",
    "Bag-of-words comparisons are not very good when all tokens are treated the same: some tokens are more important than others.\n",
    "Weights give us a way to specify which tokens to favor.\n",
    "With weights, when we compare documents, instead of counting common tokens, we sum up the weights of common tokens.\n",
    "\n",
    "A good heuristic for assigning weights is called \"Term-Frequency/Inverse-Document-Frequency,\" or TF-IDF for short.\n",
    "\n",
    "#### TF\n",
    "\n",
    "TF rewards tokens that appear more in the same document.\n",
    "It is computed as the frequency of a token in a document, that is, if token `t` appears 5 times in document `d` then the TF of `t` in `d` is `5`. The intuition for TF is that if a word occurs often in a document, then it is more important to the meaning of the document.\n",
    "\n",
    "#### IDF\n",
    "\n",
    "IDF rewards tokens that are rare across the documents in a data set.\n",
    "The intuition is that it is more significant if two documents share a rare word than a common one.\n",
    "IDF weight for a token, *t*, in a set of documents, *U*, is computed as follows: \n",
    "\n",
    "* Let *N* be the total number of documents in *U*\n",
    "* Find *n(t)*, the number of documents in *U* that contain *t*\n",
    "* Then *IDF(t) = log(N/(1+n(t)))*.\n",
    "\n",
    "Note we are actually using the log of the inverse document frequency, which typically works better than the raw inverse frequency. But the terminology \"IDF\" still applies.\n",
    "\n",
    "#### TF-IDF\n",
    "\n",
    "Finally, to bring it all together, the total TF-IDF weight for a token in a document is the product of its TF and IDF weights.\n",
    "\n",
    "In this section, we will use the `TfidfVectorizer` class provided by `scikit-learn` to generate TF-IDF vectors for each of the records in both the Amazon and Google datasets. Each record $i$ will be represented by a vector of $N$ weights,\n",
    "$$ x_i = [w_0,w_1,...,w_N] $$\n",
    "where $N$ is the number of words in the vocabulary set. \n",
    "\n",
    "For example, $w_0$ represents the TF-IDF weight of the first word in the vocabulary for this document."
   ]
  },
  {
   "cell_type": "markdown",
   "metadata": {},
   "source": [
    "First, we to need choose a vocabulary for our vectors. This vocabulary should contain all of the unique words from both the Amazon and Google datasets."
   ]
  },
  {
   "cell_type": "code",
   "execution_count": 12,
   "metadata": {},
   "outputs": [],
   "source": [
    "from sklearn.feature_extraction.text import TfidfVectorizer\n",
    "from collections import Counter"
   ]
  },
  {
   "cell_type": "code",
   "execution_count": 13,
   "metadata": {},
   "outputs": [],
   "source": [
    "all_amazon_words = amazon_small[\"all_text\"].apply(tokenize).sum()\n",
    "all_google_words = google_small[\"all_text\"].apply(tokenize).sum()"
   ]
  },
  {
   "cell_type": "code",
   "execution_count": 14,
   "metadata": {},
   "outputs": [
    {
     "name": "stdout",
     "output_type": "stream",
     "text": [
      "Total Amazon Tokens: 16047\n",
      "Total Google Tokens: 5360\n"
     ]
    }
   ],
   "source": [
    "print(\"Total Amazon Tokens: %d\" % len(all_amazon_words))\n",
    "print(\"Total Google Tokens: %d\" % len(all_google_words))"
   ]
  },
  {
   "cell_type": "markdown",
   "metadata": {},
   "source": [
    "#### Question 5 [10 Points]\n",
    "\n",
    "The two lists `all_amazon_words` and `all_google_words` are raw lists of tokens in each of the two datasets. \n",
    "Create a single python `set` called `vocab` that is the set of unique words from both lists with counts greater than 2 (i.e., if the word appears 2 or more times across both datsets, include it in the vocabulary)."
   ]
  },
  {
   "cell_type": "code",
   "execution_count": 15,
   "metadata": {},
   "outputs": [
    {
     "name": "stdout",
     "output_type": "stream",
     "text": [
      "2563\n"
     ]
    }
   ],
   "source": [
    "# Create a single set() vocabulary that contains the unique words in both datasets.\n",
    "#if the word appears 2 or more times across both datsets, include it in the vocabulary).\n",
    "comboList = all_amazon_words + all_google_words\n",
    "\n",
    "\n",
    "#https://stackoverflow.com/questions/33726361/counting-the-number-of-unique-words-in-a-list\n",
    "counter = Counter(comboList)\n",
    "vocab = [value for value, key in counter.items() if key >= 2]\n",
    "        \n",
    "\n",
    "# Your set should contain 2563 unique words.\n",
    "print(len(vocab))\n",
    "assert(len(vocab) == 2563)"
   ]
  },
  {
   "cell_type": "markdown",
   "metadata": {},
   "source": [
    "Now we will create the `TfidfVectorizer` object. We pass in three parameters:\n",
    "\n",
    "- `analyzer=tokenize` - This passes the `tokenize` function you made previously as a custom parser for the data.\n",
    "- `vocabulary=vocab` - This passes the `vocab` custom vocabulary set to the vectorizer.\n",
    "- `norm=\"l2\"` - This sets the sample normalization to `\"l2\"`. This is actually the default parameter setting, but we wanted you to notice that the `TfidfVectorizer` is doing this for you (it will be important soon)."
   ]
  },
  {
   "cell_type": "code",
   "execution_count": 16,
   "metadata": {},
   "outputs": [],
   "source": [
    "tfidf_vec = TfidfVectorizer(analyzer=tokenize,vocabulary=vocab,norm=\"l2\")"
   ]
  },
  {
   "cell_type": "markdown",
   "metadata": {},
   "source": [
    "Now, we need to concatenate the two dataframes together, in order to fit the vectorizer on all of the data."
   ]
  },
  {
   "cell_type": "code",
   "execution_count": 17,
   "metadata": {},
   "outputs": [
    {
     "data": {
      "text/plain": [
       "<400x2563 sparse matrix of type '<class 'numpy.float64'>'\n",
       "\twith 12440 stored elements in Compressed Sparse Row format>"
      ]
     },
     "execution_count": 17,
     "metadata": {},
     "output_type": "execute_result"
    }
   ],
   "source": [
    "# Combine all data for model fitting. \n",
    "# NOTE: Amazon entries are the first 200 rows (0-199), Google entries are the next 200 rows (200-399)\n",
    "all_data = pd.concat([amazon_small,google_small])\n",
    "all_data_tfidf = tfidf_vec.fit_transform(all_data.all_text)\n",
    "all_data_tfidf"
   ]
  },
  {
   "cell_type": "markdown",
   "metadata": {},
   "source": [
    "Verify that your `all_data_tfidf` says:\n",
    "```\n",
    "<400x2563 sparse matrix of type '<class 'numpy.float64'>'\n",
    "\twith 12440 stored elements in Compressed Sparse Row format>\n",
    "    ```\n",
    "The sparse matrix format is a space-efficient way to store large matrices when most entries are 0. The sparse matrix only stores values for non-zero entries.\n",
    "\n",
    "The `tfidf_vec` object also has some information about the idf weights for each of our vocabulary words, stored in `tfidf_vecidf_`, as well as a mapping between vocabulary words and vector indices stored in `tfidf_vec.vocabulary_`."
   ]
  },
  {
   "cell_type": "markdown",
   "metadata": {},
   "source": [
    "#### Question 6 [10 points]\n",
    "\n",
    "**Question 6.A -** Use the `.idf_` member of `tfidf_vec` to plot a histogram of the idf weights. This should be an interpretable chart (i.e. Give the chart a title and label both axes).\n",
    "\n",
    "**Question 6.B -** Use the `.idf_` and `.vocabulary_` members of `tfidf_vec` to generate a mapping between each vocabulary word and its IDF weight. Print the terms and weights for the **5 lowest** and **5 highest** IDF weights. Provide an interpretation of the meaning of these weights."
   ]
  },
  {
   "cell_type": "code",
   "execution_count": 18,
   "metadata": {},
   "outputs": [
    {
     "data": {
      "image/png": "[encoded data removed]",
      "text/plain": [
       "<Figure size 432x288 with 1 Axes>"
      ]
     },
     "metadata": {
      "needs_background": "light"
     },
     "output_type": "display_data"
    }
   ],
   "source": [
    "from matplotlib import pyplot as plt\n",
    "# Question 6.A - Plot a histogram of the IDF weights. Make sure to use a title and label your axes correctly\n",
    "\n",
    "weight = tfidf_vec.idf_\n",
    "plt.hist(weight)\n",
    "plt.title(\"Histogram of IDF Weights\")\n",
    "plt.xlabel(\"IDF Weights\")\n",
    "plt.ylabel(\"Number of IDF Weights\")\n",
    "\n",
    "plt.show()"
   ]
  },
  {
   "cell_type": "code",
   "execution_count": 19,
   "metadata": {},
   "outputs": [],
   "source": [
    "# Question 6.B - Print the terms and weights for the 5 lowest and 5 highest IDF terms.\n",
    "\n",
    "weight = tfidf_vec.idf_\n",
    "vocab = tfidf_vec.vocabulary_\n",
    "\n",
    "df = pd.DataFrame()\n",
    "df[\"weight\"] = weight\n",
    "df[\"vocab\"] = vocab\n",
    "\n",
    "idf_vals = df.sort_values(by=['weight'],ascending = False)\n",
    "\n",
    "# Provide an interpretation of the meaning of these weights. Answered in markdown below"
   ]
  },
  {
   "cell_type": "markdown",
   "metadata": {},
   "source": [
    "The weights are equivalent to how \"heavy\" they are. if they have a higher weight then they exist more and if its lower then theres less words"
   ]
  },
  {
   "cell_type": "code",
   "execution_count": 20,
   "metadata": {},
   "outputs": [
    {
     "name": "stdout",
     "output_type": "stream",
     "text": [
      "Top 5\n",
      "        weight      vocab\n",
      "2562  6.300814        llc\n",
      "1996  6.300814   magazine\n",
      "1998  6.300814    webster\n",
      "1999  6.300814  thesaurus\n",
      "2000  6.300814      atlas\n",
      "Bottom 5\n",
      "       weight     vocab\n",
      "117  2.440085  software\n",
      "139  2.916424       new\n",
      "62   2.916424  features\n",
      "38   2.933518       use\n",
      "185  2.968610  complete\n"
     ]
    }
   ],
   "source": [
    "print(\"Top 5\")\n",
    "print(idf_vals.iloc[:5])\n",
    "print(\"Bottom 5\")\n",
    "print(idf_vals.iloc[:-6:-1])"
   ]
  },
  {
   "cell_type": "markdown",
   "metadata": {},
   "source": [
    "\n",
    "### 1.3 Cosine Similarity\n",
    "\n",
    "Now we are ready to do text comparisons in a formal way.\n",
    "The metric of string distance we will use is called **cosine similarity**.\n",
    "We will treat each document as a vector in some high dimensional space.\n",
    "Then, to compare two documents we compute the cosine of the angle between their two document vectors.\n",
    "This is easier than it sounds.\n",
    "\n",
    "The first question to answer is how do we represent documents as vectors?\n",
    "The answer is familiar: bag-of-words!\n",
    "We treat each unique token as a dimension, and treat token weights as magnitudes in their respective token dimensions.\n",
    "For example, suppose we use simple counts as weights, and we want to interpret the string \"Hello, world!  Goodbye, world!\" as a vector.\n",
    "Then in the \"hello\" and \"goodbye\" dimensions the vector has value 1, in the \"world\" dimension it has value 2, and it is zero in all other dimensions.\n",
    "\n",
    "Next question is: given two vectors how do we find the cosine of the angle between them?\n",
    "Recall the formula for the dot product of two vectors:\n",
    "\n",
    "$$a \\cdot b = \\| a \\| \\| b \\| \\cos \\theta$$\n",
    "\n",
    "Here $a \\cdot b = \\sum_{i=1}^n a_i b_i$ is the ordinary dot product of two vectors, and $\\|a\\| = \\sqrt{ \\sum_{i=1}^n a_i^2 }$ is the norm of $a$.\n",
    "\n",
    "We can rearrange terms and solve for the cosine to find it is simply the normalized dot product of the vectors.\n",
    "With our vector model, the dot product and norm computations are simple functions of the bag-of-words document representations, so we now have a formal way to compute similarity:\n",
    "\n",
    "$$similarity = \\cos \\theta = \\frac{a \\cdot b}{\\|a\\| \\|b\\|} = \\frac{\\sum_{i=1}^n a_i b_i}{\\sqrt{\\sum_{i=1}^n a_i^2} \\sqrt{\\sum_{i=1}^n b_i^2}}$$\n",
    "\n",
    "Setting aside the algebra, the geometric interpretation is more intuitive.\n",
    "The angle between two document vectors is small if they share many tokens in common, because they are pointing in roughly the same direction.\n",
    "Then, the cosine of the angle will be large.\n",
    "Otherwise, if the angle is large (and they have few words in common), the cosine is small.\n",
    "So the cosine scales proportionally with our intuitive sense of similarity."
   ]
  },
  {
   "cell_type": "markdown",
   "metadata": {},
   "source": [
    "#### Question 7 [15 points]\n",
    "\n",
    "Now that we understand cosine similarity, we can use it as a metric to determine the similarity between products in the Google and Amazon datasets.\n",
    "\n",
    "The `all_data_tfidf` matrix contains the concatenated TF-IDF vector values for both the Amazon and Google datasets. \n",
    "\n",
    "Create two new variables `amazon_tfidf` and `google_tfidf` that contain only the TF-IDF vectors for the Amazon and Google data, respectively. You can perform slicing on the first dimension of `all_data_tfidf` to split the data.\n",
    "\n",
    "Once you have `amazon_tfidf` and `google_tfidf`, calculate the pariwise cosine simialrity between the records in the two datasets. The output of this calculation should be a 200x200 matrix (200 rows in Amazon dataset x 200 rows in Google dataset). Note the formula for cosine similarity above. Store your result in a variable called `cosine_siml`.\n",
    "\n",
    "**Note:** As mentioned previously, the vectors in `all_data_tfidf` are already L2 normalized, meaning $\\| a \\| \\| b \\| = 1$"
   ]
  },
  {
   "cell_type": "code",
   "execution_count": 21,
   "metadata": {},
   "outputs": [
    {
     "data": {
      "text/plain": [
       "<200x200 sparse matrix of type '<class 'numpy.float64'>'\n",
       "\twith 16069 stored elements in Compressed Sparse Row format>"
      ]
     },
     "execution_count": 21,
     "metadata": {},
     "output_type": "execute_result"
    }
   ],
   "source": [
    "# Question 7\n",
    "from numpy.linalg import norm\n",
    "from sklearn.metrics.pairwise import cosine_similarity,cosine_distances\n",
    "from scipy import spatial\n",
    "\n",
    "\n",
    "# NOTE: Amazon entries are the first 200 rows (0-199), Google entries are the next 200 rows (200-399)\n",
    "#all_data_tfidf\n",
    "\n",
    "amazon_tfidf = all_data_tfidf[:200]\n",
    "#<200x2563 sparse matrix of type '<class 'numpy.float64'>' with 8711 stored elements in Compressed Sparse Row format>\n",
    "google_tfidf = all_data_tfidf[200:]\n",
    "#<200x2563 sparse matrix of type '<class 'numpy.float64'>' with 3729 stored elements in Compressed Sparse Row format>\n",
    "\n",
    "\n",
    "cos_reshape = cosine_similarity(amazon_tfidf.reshape(1,-1),google_tfidf.reshape(1,-1))\n",
    "# gives a one variable of array([[0.01825755]])\n",
    "\n",
    "#dum dum it's already normalized. So just need to do the dot product up top and abs a and b = 1 \n",
    "cosine_siml = np.dot(amazon_tfidf, google_tfidf.T)/1\n",
    "cosine_siml\n",
    "\n",
    "#can't use df here because of the sparseness and too lazy to convert it otherwise"
   ]
  },
  {
   "cell_type": "markdown",
   "metadata": {},
   "source": [
    "#### Question 8 [5 points]\n",
    "Plot a heatmap of the cosine similarity matrix. Give the chart a title and axes labes, but you do not need to label the rows/columns for indivdual records (it would be very messy). Include a colorbar to show the meaning of the color scale.\n",
    "\n",
    "**Hint:** Pyplot's `imshow` function is great for visualizing 2D matrices."
   ]
  },
  {
   "cell_type": "code",
   "execution_count": 22,
   "metadata": {},
   "outputs": [
    {
     "data": {
      "image/png": "[encoded data removed]",
      "text/plain": [
       "<Figure size 720x720 with 2 Axes>"
      ]
     },
     "metadata": {
      "needs_background": "light"
     },
     "output_type": "display_data"
    }
   ],
   "source": [
    "# Plot the heatmap here.\n",
    "\n",
    "import seaborn as sns\n",
    "%matplotlib inline\n",
    "\n",
    "plt.figure(figsize=(10,10)) \n",
    "#todense fixes the Must pass 2-d input. shape=()\n",
    "sns.heatmap(cosine_siml.todense()) # reconstruct dense matrix\n",
    "plt.title('Google VS Amazon')\n",
    "plt.xlabel('Google')\n",
    "plt.ylabel('Amazon')\n",
    "\n",
    "plt.show()"
   ]
  },
  {
   "cell_type": "markdown",
   "metadata": {},
   "source": [
    "#### Question 9 [10 points]\n",
    "Now we can finally do some entity resolution! Use the `cosine_siml` matrix to build a dictionary mapping `(Amazon Id, Google Id)` tuples to their cosine similarity scores between 0 and 1.\n",
    "\n",
    "\n",
    "What is the similarity between Amazon record `b000o24l3q` and Google record `17242822440574356561` ?"
   ]
  },
  {
   "cell_type": "code",
   "execution_count": 35,
   "metadata": {},
   "outputs": [
    {
     "name": "stdout",
     "output_type": "stream",
     "text": [
      "      amazon_id             google_id  \\\n",
      "0    b000jz4hqo  11448761432933644608   \n",
      "1    b0006zf55o   8175198959985911471   \n",
      "2    b00004tkvy  18445827127704822533   \n",
      "3    b000g80lqo  18274317756231697680   \n",
      "4    b0006se5bq  18409551702230917208   \n",
      "..          ...                   ...   \n",
      "195  b000067fdw  13695802285127612231   \n",
      "196  b000h5ex7e  18428018889032699615   \n",
      "197  b00008pbus  17010841797296818807   \n",
      "198  b000fqvxge   6054765746746674194   \n",
      "199  b0007q7mg2  18352758014310675462   \n",
      "\n",
      "                                                cosine  \n",
      "0    [0.0, 0.040201778081633506, 0.0, 0.0, 0.0, 0.0...  \n",
      "1    [0.0, 0.0, 0.03216422306045213, 0.0, 0.0, 0.0,...  \n",
      "2    [0.0, 0.0, 0.0, 0.0, 0.0, 0.0, 0.0, 0.0, 0.0, ...  \n",
      "3    [0.007320003576356854, 0.014172674910103256, 0...  \n",
      "4    [0.0, 0.0, 0.0708186667365169, 0.0, 0.0, 0.0, ...  \n",
      "..                                                 ...  \n",
      "195  [0.04207096538485418, 0.01203937904202166, 0.0...  \n",
      "196  [0.0, 0.05523043652339999, 0.0, 0.0, 0.0, 0.0,...  \n",
      "197  [0.0, 0.0, 0.0, 0.0, 0.04933370485462517, 0.0,...  \n",
      "198  [0.0, 0.00835918577898504, 0.0, 0.048452211483...  \n",
      "199  [0.0, 0.0, 0.07026574148876216, 0.0, 0.0, 0.0,...  \n",
      "\n",
      "[200 rows x 3 columns]\n",
      "\n",
      "\n",
      "\n",
      "Requested similarity is 0.011360947368056323.\n"
     ]
    }
   ],
   "source": [
    "# Compute similarities\n",
    "similarities = {}\n",
    "\n",
    "#cosine_siml matrix \n",
    "matrix =cosine_siml.todense()\n",
    "#need to reconvert it since it was being a prick with sizing and being out of bounds\n",
    "matrix = np.array(matrix)\n",
    "\n",
    "\n",
    "#out of curiosity to just make a whole column of it down the line, but it wouldnt work if we needed to find specific pair\n",
    "#plus the matrix thing is dumb\n",
    "#imagine how convenient it'd be if this was all that was needed \n",
    "new_df = pd.DataFrame(list(zip(amazon_small.index, google_small.index, matrix)), columns =[\"amazon_id\", \"google_id\", \"cosine\"])\n",
    "print(new_df)\n",
    "\n",
    "\n",
    "#iloc would've been easier\n",
    "amazon_id = amazon_small.index\n",
    "google_id = google_small.index\n",
    "\n",
    "#turn it to ((Amazon Id, Google Id), matrix)\n",
    "#im so mad LOL Q.Q \n",
    "#i wanted a shorter way and I can't see how \n",
    "#https://www.geeksforgeeks.org/python-convert-two-lists-into-a-dictionary/\n",
    "faang = {amazon_id[i]: google_id[i] for i in range(len(google_id))}\n",
    "faang\n",
    "\n",
    "for x in range(0,200):\n",
    "    amazon  = amazon_id[x]\n",
    "    for y in range(0,200):\n",
    "        google = google_id[y]\n",
    "        faangMula = (amazon,google)\n",
    "        #we gotta do the individual mapping because the matrix is dumb and I'm dumber\n",
    "        similarities[faangMula] = matrix[x][y]\n",
    "    \n",
    "\n",
    "\n",
    "print('\\n\\n\\nRequested similarity is %s.' % similarities[('b000o24l3q','17242822440574356561')])"
   ]
  },
  {
   "cell_type": "markdown",
   "metadata": {},
   "source": [
    "#### Question 10 [5 points]\n",
    "\n",
    "Use the \"gold standard\" data (loaded from the supplied file `Amazon_Google_perfectMapping.csv`) to answer the following questions. How many true duplicate pairs are there in the small data sets? What is the average similarity score for true duplicates?  What about for non-duplicates?  Based on this, is cosine similarity doing a good job, qualitatively speaking, of identifying duplicates?  Why or why not?"
   ]
  },
  {
   "cell_type": "code",
   "execution_count": 60,
   "metadata": {},
   "outputs": [
    {
     "name": "stdout",
     "output_type": "stream",
     "text": [
      "There are 146 true duplicates.\n",
      "The average similarity of true duplicates is 0.510057.\n",
      "And for non duplicates, it is 0.013729.\n"
     ]
    }
   ],
   "source": [
    "gold_standard = [] # Load this if not already loaded - what?\n",
    "perfect = pd.read_csv(\"Amazon_Google_perfectMapping.csv\")\n",
    "\n",
    "#do the same for idGoogleBase here \n",
    "googleBase = perfect['idGoogleBase'].str.split('/', expand = True).iloc[: , -1]\n",
    "googleBase\n",
    "\n",
    "#now we replace with the last column\n",
    "perfect[\"idGoogleBase\"] = googleBase\n",
    "\n",
    "#map them. I didn't make individual lists like before\n",
    "mapped = {(x,y) for x,y in zip(list(perfect['idAmazon']),list(perfect['idGoogleBase']))}\n",
    "\n",
    "#making the set\n",
    "perfectMapping = set(similarities.keys())\n",
    "\n",
    "\n",
    "#results\n",
    "#true = real values\n",
    "#average = total / len\n",
    "#not average = total - not / len - not \n",
    "true_dups = perfectMapping.intersection(mapped)\n",
    "avg_sim_dups = sum([similarities[i] for i in true_dups]) / len(true_dups)\n",
    "avg_sim_non = sum([similarities[i] for i in perfectMapping - mapped]) / len(perfectMapping - mapped)\n",
    "\n",
    "print(\"There are %d true duplicates.\"% len(true_dups))\n",
    "print(\"The average similarity of true duplicates is %f.\"% avg_sim_dups) \n",
    "print(\"And for non duplicates, it is %f.\"% avg_sim_non) "
   ]
  },
  {
   "cell_type": "markdown",
   "metadata": {},
   "source": [
    "## Part 2: NLP\n",
    "\n",
    "Here we will use part of a dataset taken from Kaggle to train a sentiment analysis classifier, which is capable of predicting the positive or negative sentiment associated with a phrase. \n",
    "\n",
    "These data are snippets of movie reviews, which are labeled with overall sentiment of the snippet. The goal is to create a classifier which can predict the sentiment of a text sentence."
   ]
  },
  {
   "cell_type": "code",
   "execution_count": 39,
   "metadata": {},
   "outputs": [],
   "source": [
    "from nltk.sentiment import SentimentAnalyzer\n",
    "from nltk.classify import NaiveBayesClassifier\n",
    "from nltk.sentiment.util import mark_negation,extract_unigram_feats"
   ]
  },
  {
   "cell_type": "markdown",
   "metadata": {},
   "source": [
    "#### Question 11 [5 points]\n",
    "\n",
    "**Question 11.A -** Read the `train_reviews.csv` and `test_reviews.csv` files you downloaded from Canvas into two Pandas `Dataframe` objects called `train_df` and `test_df`. Print the first few rows of `train_df` using the `head` function (i.e. `train_df.head()`).\n",
    "\n",
    "The sentiment labels are:\n",
    "\n",
    "0. negative\n",
    "1. somewhat negative\n",
    "2. neutral\n",
    "3. somewhat positive\n",
    "4. positive\n",
    "\n",
    "**Question 11.B -** Plot a histogram of each value in the `Sentiment` column for the training and testing datasets. Which labels are the most common? Make sure to give each chart a title and label the axes. "
   ]
  },
  {
   "cell_type": "code",
   "execution_count": 41,
   "metadata": {},
   "outputs": [
    {
     "name": "stdout",
     "output_type": "stream",
     "text": [
      "Train\n",
      "    PhraseId  SentenceId                                             Phrase  \\\n",
      "0         1           1  A series of escapades demonstrating the adage ...   \n",
      "1         2           1  A series of escapades demonstrating the adage ...   \n",
      "2         3           1                                           A series   \n",
      "3         4           1                                                  A   \n",
      "4         5           1                                             series   \n",
      "\n",
      "   Sentiment  \n",
      "0          1  \n",
      "1          2  \n",
      "2          2  \n",
      "3          2  \n",
      "4          2  \n",
      "\n",
      "\n",
      "\n",
      "Test\n",
      "    PhraseId  SentenceId                             Phrase  Sentiment\n",
      "0       552          21  Best indie of the year , so far .          4\n",
      "1       553          21                               Best          4\n",
      "2       554          21       indie of the year , so far .          3\n",
      "3       555          21         indie of the year , so far          4\n",
      "4       556          21                indie of the year ,          3\n"
     ]
    }
   ],
   "source": [
    "# Question 11. A\n",
    "train_df = pd.read_csv(\"train_reviews.csv\")\n",
    "test_df = pd.read_csv(\"test_reviews.csv\")\n",
    "\n",
    "print(\"Train\\n\",train_df.head())\n",
    "\n",
    "\n",
    "print(\"\\n\\n\\nTest\\n\",test_df.head())"
   ]
  },
  {
   "cell_type": "code",
   "execution_count": 43,
   "metadata": {},
   "outputs": [
    {
     "data": {
      "image/png": "[encoded data removed]",
      "text/plain": [
       "<Figure size 720x720 with 1 Axes>"
      ]
     },
     "metadata": {
      "needs_background": "light"
     },
     "output_type": "display_data"
    },
    {
     "data": {
      "image/png": "[encoded data removed]",
      "text/plain": [
       "<Figure size 720x720 with 1 Axes>"
      ]
     },
     "metadata": {
      "needs_background": "light"
     },
     "output_type": "display_data"
    }
   ],
   "source": [
    "# Question 11. B \n",
    "# Plot a histogram of the sentiment values for all sentences. \n",
    "\n",
    "#sentiments\n",
    "trainSentiment = train_df[\"Sentiment\"]\n",
    "testSentiment = test_df[\"Sentiment\"]\n",
    "\n",
    "#train histogram\n",
    "plt.figure(figsize=(10,10)) \n",
    "plt.hist(trainSentiment)\n",
    "plt.title(\"Train Sentiment\")\n",
    "plt.xlabel(\"Sentiment\")\n",
    "plt.ylabel(\"Sentiment Count\")\n",
    "plt.show()\n",
    "\n",
    "\n",
    "#test histogram\n",
    "plt.figure(figsize=(10,10)) \n",
    "plt.hist(testSentiment)\n",
    "plt.title(\"Test Sentiment\")\n",
    "plt.xlabel(\"Sentiment\")\n",
    "plt.ylabel(\"Sentiment Count\")\n",
    "plt.show()\n",
    "\n",
    "#They both have a strong sentiment around 2, which is neutral. Both datasets are about neutral"
   ]
  },
  {
   "cell_type": "markdown",
   "metadata": {},
   "source": [
    "### They both have a strong sentiment around 2, which is neutral. Both datasets are about neutral "
   ]
  },
  {
   "cell_type": "markdown",
   "metadata": {},
   "source": [
    "One important part of sentiment analysis is recognizing when words are negated. For example, take the sentence:\n",
    "\"I enjoy running\""
   ]
  },
  {
   "cell_type": "code",
   "execution_count": 44,
   "metadata": {},
   "outputs": [
    {
     "name": "stdout",
     "output_type": "stream",
     "text": [
      "['enjoy', 'running']\n",
      "['enjoy', 'running']\n"
     ]
    }
   ],
   "source": [
    "my_sent = \"I enjoy running\"\n",
    "my_opposite_sent = \"I do not enjoy running\"\n",
    "print(tokenize(my_sent))\n",
    "print(tokenize(my_opposite_sent))"
   ]
  },
  {
   "cell_type": "markdown",
   "metadata": {},
   "source": [
    "If we tokenize these sentences with our `tokenize` function, these sentences become indistinguishable, since we lose the context of the \"not\" modifier. These sentences have identical tokenized representations even though their meanings are opposite.\n",
    "\n",
    "We need a way to note when a word appears in a *negated* context, i.e. (**not** something *vs.* something). NLTK provides us a handy function called `mark_negation` that does exactly this.\n",
    "\n",
    "Let's try it out on our sentences above, using the `simple_tokenize` function instead of `tokenize` so that we don't drop the \"don't\"."
   ]
  },
  {
   "cell_type": "code",
   "execution_count": 45,
   "metadata": {},
   "outputs": [
    {
     "name": "stdout",
     "output_type": "stream",
     "text": [
      "['i', 'enjoy', 'running']\n",
      "['i', 'do', 'not', 'enjoy_NEG', 'running_NEG']\n"
     ]
    }
   ],
   "source": [
    "print(mark_negation(simple_tokenize(my_sent)))\n",
    "print(mark_negation(simple_tokenize(my_opposite_sent)))"
   ]
  },
  {
   "cell_type": "markdown",
   "metadata": {},
   "source": [
    "The `mark_negation` function correctly tagged the words \"enjoy\" and \"running\" with a `_NEG` suffix, to indicate that they are used in a negative context."
   ]
  },
  {
   "cell_type": "markdown",
   "metadata": {},
   "source": [
    "#### Question 12 [5 points]\n",
    "In both `train_df` and `test_df` the `Phrase` column holds a string which we need to tokenize. Thankfully, you have already created two tokenize functions in the previous part of this assignment! For this we do *not* want to remove stop words, so use `simple_tokenize`. \n",
    "\n",
    "\n",
    "**Question 12.A -** Create a new column called `tokens` in both `train_df` and `test_df` which contain the tokenized representation (i.e. a list of strings) for the `Phrase` column. Use the `mark_negation` function to ensure that negations are tagged correctly.\n",
    "\n",
    "**Question 12.B -** Create a set called `unique_words` containing the unique words in the `tokens` column from both `train_df` and `test_df` (i.e. create a single set)."
   ]
  },
  {
   "cell_type": "code",
   "execution_count": 46,
   "metadata": {},
   "outputs": [
    {
     "data": {
      "text/html": [
       "<div>\n",
       "<style scoped>\n",
       "    .dataframe tbody tr th:only-of-type {\n",
       "        vertical-align: middle;\n",
       "    }\n",
       "\n",
       "    .dataframe tbody tr th {\n",
       "        vertical-align: top;\n",
       "    }\n",
       "\n",
       "    .dataframe thead th {\n",
       "        text-align: right;\n",
       "    }\n",
       "</style>\n",
       "<table border=\"1\" class=\"dataframe\">\n",
       "  <thead>\n",
       "    <tr style=\"text-align: right;\">\n",
       "      <th></th>\n",
       "      <th>PhraseId</th>\n",
       "      <th>SentenceId</th>\n",
       "      <th>Phrase</th>\n",
       "      <th>Sentiment</th>\n",
       "      <th>tokens</th>\n",
       "    </tr>\n",
       "  </thead>\n",
       "  <tbody>\n",
       "    <tr>\n",
       "      <th>0</th>\n",
       "      <td>1</td>\n",
       "      <td>1</td>\n",
       "      <td>A series of escapades demonstrating the adage ...</td>\n",
       "      <td>1</td>\n",
       "      <td>[a, series, of, escapades, demonstrating, the,...</td>\n",
       "    </tr>\n",
       "    <tr>\n",
       "      <th>1</th>\n",
       "      <td>2</td>\n",
       "      <td>1</td>\n",
       "      <td>A series of escapades demonstrating the adage ...</td>\n",
       "      <td>2</td>\n",
       "      <td>[a, series, of, escapades, demonstrating, the,...</td>\n",
       "    </tr>\n",
       "    <tr>\n",
       "      <th>2</th>\n",
       "      <td>3</td>\n",
       "      <td>1</td>\n",
       "      <td>A series</td>\n",
       "      <td>2</td>\n",
       "      <td>[a, series]</td>\n",
       "    </tr>\n",
       "    <tr>\n",
       "      <th>3</th>\n",
       "      <td>4</td>\n",
       "      <td>1</td>\n",
       "      <td>A</td>\n",
       "      <td>2</td>\n",
       "      <td>[a]</td>\n",
       "    </tr>\n",
       "    <tr>\n",
       "      <th>4</th>\n",
       "      <td>5</td>\n",
       "      <td>1</td>\n",
       "      <td>series</td>\n",
       "      <td>2</td>\n",
       "      <td>[series]</td>\n",
       "    </tr>\n",
       "  </tbody>\n",
       "</table>\n",
       "</div>"
      ],
      "text/plain": [
       "   PhraseId  SentenceId                                             Phrase  \\\n",
       "0         1           1  A series of escapades demonstrating the adage ...   \n",
       "1         2           1  A series of escapades demonstrating the adage ...   \n",
       "2         3           1                                           A series   \n",
       "3         4           1                                                  A   \n",
       "4         5           1                                             series   \n",
       "\n",
       "   Sentiment                                             tokens  \n",
       "0          1  [a, series, of, escapades, demonstrating, the,...  \n",
       "1          2  [a, series, of, escapades, demonstrating, the,...  \n",
       "2          2                                        [a, series]  \n",
       "3          2                                                [a]  \n",
       "4          2                                           [series]  "
      ]
     },
     "execution_count": 46,
     "metadata": {},
     "output_type": "execute_result"
    }
   ],
   "source": [
    "# Question 12. A\n",
    "#use some apply lambda https://stackoverflow.com/questions/65902816/removing-stop-words-from-a-pandas-column\n",
    "train_df[\"tokens\"] = train_df[\"Phrase\"].apply(lambda text: mark_negation(simple_tokenize(text)))\n",
    "test_df[\"tokens\"] = test_df[\"Phrase\"].apply(lambda text: mark_negation(simple_tokenize(text)))\n",
    "train_df.head()"
   ]
  },
  {
   "cell_type": "markdown",
   "metadata": {},
   "source": [
    "Verify that your `tokens` column looks correct. (i.e., it should be a list of lowercase strings corresponding to the words in `Sentiment`)"
   ]
  },
  {
   "cell_type": "code",
   "execution_count": 50,
   "metadata": {},
   "outputs": [
    {
     "name": "stdout",
     "output_type": "stream",
     "text": [
      "414\n"
     ]
    }
   ],
   "source": [
    "# Question 12. B\n",
    "# Add all of the unique words in train_df\n",
    "#use for and not if, since we're adding all, so just iterate and add all \n",
    "#set doesn't use append. \n",
    "unique_words = set()\n",
    "for token_group in train_df.tokens:\n",
    "    for i in token_group:\n",
    "        unique_words.add(i)\n",
    "\n",
    "# Do the same for test_df.\n",
    "for token_group in test_df.tokens:\n",
    "    for i in token_group:\n",
    "        unique_words.add(i)\n",
    "print(len(unique_words))"
   ]
  },
  {
   "cell_type": "code",
   "execution_count": 51,
   "metadata": {},
   "outputs": [],
   "source": [
    "# Should have 414 unique words\n",
    "assert(len(unique_words) == 414)"
   ]
  },
  {
   "cell_type": "markdown",
   "metadata": {},
   "source": [
    "Now we can create a `SentimentAnalyzer`, which is an NLTK helper class for building a sentiment analyzer."
   ]
  },
  {
   "cell_type": "code",
   "execution_count": 52,
   "metadata": {},
   "outputs": [],
   "source": [
    "analyzer = SentimentAnalyzer()"
   ]
  },
  {
   "cell_type": "markdown",
   "metadata": {},
   "source": [
    "#### Question 13 [5 points]\n",
    "The sentiment analyzer that we will train expects to recieve each phrase as a tuple in the form of:\n",
    "`([\"a\",\"series\",\"of\",\"tokens\"],label)`\n",
    "\n",
    "Build two variables `train_set` and `test_set` containing lists of tuples of the form shown above by combining the `tokens` and `Sentiment` columns from each dataframe.\n",
    "\n",
    "`train_set`  and `test_set` should both look like a list of tuples containing the token list and label:\n",
    "```\n",
    "[\n",
    "...\n",
    "(['of',\n",
    "  'escapades',\n",
    "  'demonstrating',\n",
    "  'the',\n",
    "  'adage',\n",
    "  'that',\n",
    "  'what',\n",
    "  'is',\n",
    "  'good',\n",
    "  'for',\n",
    "  'the',\n",
    "  'goose'],2),\n",
    "...\n",
    "]\n",
    "```"
   ]
  },
  {
   "cell_type": "code",
   "execution_count": 53,
   "metadata": {},
   "outputs": [],
   "source": [
    "# Question 13\n",
    "#((tokens), sentiment)\n",
    "#zip zip from whatever stackoverflow zip link above\n",
    "train_set = [(tokens,sentiment) for tokens,sentiment in zip(train_df.tokens, train_df.Sentiment)]\n",
    "test_set = [(tokens,sentiment) for tokens,sentiment in zip(test_df.tokens, test_df.Sentiment)]"
   ]
  },
  {
   "cell_type": "markdown",
   "metadata": {},
   "source": [
    "We can now use the `add_feature_extractor` function to create a feature extractor for our dataset. In this case, we will use `extract_unigram_feats`, which will provide a boolean indicator of whether each word in `unique_words` exists in the current sentence"
   ]
  },
  {
   "cell_type": "code",
   "execution_count": 54,
   "metadata": {},
   "outputs": [],
   "source": [
    "analyzer.add_feat_extractor(extract_unigram_feats,unigrams=unique_words)"
   ]
  },
  {
   "cell_type": "markdown",
   "metadata": {},
   "source": [
    "Now we can create two sets of features `train_features` and `test_features` for our training and testing data respectively."
   ]
  },
  {
   "cell_type": "code",
   "execution_count": 55,
   "metadata": {},
   "outputs": [],
   "source": [
    "train_features = analyzer.apply_features(train_set)\n",
    "test_features = analyzer.apply_features(test_set)"
   ]
  },
  {
   "cell_type": "markdown",
   "metadata": {},
   "source": [
    "We will learn more about using classifiers such as Naive Bayes in the next assignment. For now, let's just use the NaiveBayesClassifier to perform sentiment analysis.\n",
    "\n",
    "This cell may take a few minutes to run while it is training the classifier."
   ]
  },
  {
   "cell_type": "code",
   "execution_count": 56,
   "metadata": {},
   "outputs": [
    {
     "name": "stdout",
     "output_type": "stream",
     "text": [
      "Training classifier\n"
     ]
    }
   ],
   "source": [
    "nb_trainer = NaiveBayesClassifier.train\n",
    "nb_classifier = analyzer.train(nb_trainer,train_features)"
   ]
  },
  {
   "cell_type": "code",
   "execution_count": 57,
   "metadata": {},
   "outputs": [
    {
     "name": "stdout",
     "output_type": "stream",
     "text": [
      "Evaluating NaiveBayesClassifier results...\n"
     ]
    }
   ],
   "source": [
    "analyze_dict = analyzer.evaluate(test_features)"
   ]
  },
  {
   "cell_type": "code",
   "execution_count": 58,
   "metadata": {},
   "outputs": [
    {
     "data": {
      "text/html": [
       "<style type=\"text/css\">\n",
       "#T_69cbf_row0_col0 {\n",
       "  background-color: #329b51;\n",
       "  color: #f1f1f1;\n",
       "}\n",
       "#T_69cbf_row1_col0 {\n",
       "  background-color: #eaf7e6;\n",
       "  color: #000000;\n",
       "}\n",
       "#T_69cbf_row2_col0 {\n",
       "  background-color: #dff3da;\n",
       "  color: #000000;\n",
       "}\n",
       "#T_69cbf_row3_col0 {\n",
       "  background-color: #004d1f;\n",
       "  color: #f1f1f1;\n",
       "}\n",
       "#T_69cbf_row4_col0 {\n",
       "  background-color: #bee5b8;\n",
       "  color: #000000;\n",
       "}\n",
       "#T_69cbf_row5_col0 {\n",
       "  background-color: #f3faf0;\n",
       "  color: #000000;\n",
       "}\n",
       "#T_69cbf_row6_col0 {\n",
       "  background-color: #f2faef;\n",
       "  color: #000000;\n",
       "}\n",
       "#T_69cbf_row7_col0 {\n",
       "  background-color: #339c52;\n",
       "  color: #f1f1f1;\n",
       "}\n",
       "#T_69cbf_row8_col0 {\n",
       "  background-color: #00441b;\n",
       "  color: #f1f1f1;\n",
       "}\n",
       "#T_69cbf_row9_col0 {\n",
       "  background-color: #8dd08a;\n",
       "  color: #000000;\n",
       "}\n",
       "#T_69cbf_row10_col0 {\n",
       "  background-color: #f7fcf5;\n",
       "  color: #000000;\n",
       "}\n",
       "#T_69cbf_row11_col0 {\n",
       "  background-color: #76c578;\n",
       "  color: #000000;\n",
       "}\n",
       "#T_69cbf_row12_col0 {\n",
       "  background-color: #edf8e9;\n",
       "  color: #000000;\n",
       "}\n",
       "#T_69cbf_row13_col0 {\n",
       "  background-color: #005622;\n",
       "  color: #f1f1f1;\n",
       "}\n",
       "#T_69cbf_row14_col0 {\n",
       "  background-color: #d2edcc;\n",
       "  color: #000000;\n",
       "}\n",
       "#T_69cbf_row15_col0 {\n",
       "  background-color: #c4e8bd;\n",
       "  color: #000000;\n",
       "}\n",
       "</style>\n",
       "<table id=\"T_69cbf\">\n",
       "  <thead>\n",
       "    <tr>\n",
       "      <th class=\"blank\" >&nbsp;</th>\n",
       "      <th class=\"blank level0\" >&nbsp;</th>\n",
       "      <th id=\"T_69cbf_level0_col0\" class=\"col_heading level0 col0\" >Value</th>\n",
       "    </tr>\n",
       "    <tr>\n",
       "      <th class=\"index_name level0\" >Metric</th>\n",
       "      <th class=\"index_name level1\" >Class</th>\n",
       "      <th class=\"blank col0\" >&nbsp;</th>\n",
       "    </tr>\n",
       "  </thead>\n",
       "  <tbody>\n",
       "    <tr>\n",
       "      <th id=\"T_69cbf_level0_row0\" class=\"row_heading level0 row0\" >Accuracy</th>\n",
       "      <th id=\"T_69cbf_level1_row0\" class=\"row_heading level1 row0\" >nan</th>\n",
       "      <td id=\"T_69cbf_row0_col0\" class=\"data row0 col0\" >0.542910</td>\n",
       "    </tr>\n",
       "    <tr>\n",
       "      <th id=\"T_69cbf_level0_row1\" class=\"row_heading level0 row1\" rowspan=\"5\">F-measure</th>\n",
       "      <th id=\"T_69cbf_level1_row1\" class=\"row_heading level1 row1\" >0</th>\n",
       "      <td id=\"T_69cbf_row1_col0\" class=\"data row1 col0\" >0.097561</td>\n",
       "    </tr>\n",
       "    <tr>\n",
       "      <th id=\"T_69cbf_level1_row2\" class=\"row_heading level1 row2\" >1</th>\n",
       "      <td id=\"T_69cbf_row2_col0\" class=\"data row2 col0\" >0.141414</td>\n",
       "    </tr>\n",
       "    <tr>\n",
       "      <th id=\"T_69cbf_level1_row3\" class=\"row_heading level1 row3\" >2</th>\n",
       "      <td id=\"T_69cbf_row3_col0\" class=\"data row3 col0\" >0.758226</td>\n",
       "    </tr>\n",
       "    <tr>\n",
       "      <th id=\"T_69cbf_level1_row4\" class=\"row_heading level1 row4\" >3</th>\n",
       "      <td id=\"T_69cbf_row4_col0\" class=\"data row4 col0\" >0.238532</td>\n",
       "    </tr>\n",
       "    <tr>\n",
       "      <th id=\"T_69cbf_level1_row5\" class=\"row_heading level1 row5\" >4</th>\n",
       "      <td id=\"T_69cbf_row5_col0\" class=\"data row5 col0\" >0.048193</td>\n",
       "    </tr>\n",
       "    <tr>\n",
       "      <th id=\"T_69cbf_level0_row6\" class=\"row_heading level0 row6\" rowspan=\"5\">Precision</th>\n",
       "      <th id=\"T_69cbf_level1_row6\" class=\"row_heading level1 row6\" >0</th>\n",
       "      <td id=\"T_69cbf_row6_col0\" class=\"data row6 col0\" >0.055556</td>\n",
       "    </tr>\n",
       "    <tr>\n",
       "      <th id=\"T_69cbf_level1_row7\" class=\"row_heading level1 row7\" >1</th>\n",
       "      <td id=\"T_69cbf_row7_col0\" class=\"data row7 col0\" >0.538462</td>\n",
       "    </tr>\n",
       "    <tr>\n",
       "      <th id=\"T_69cbf_level1_row8\" class=\"row_heading level1 row8\" >2</th>\n",
       "      <td id=\"T_69cbf_row8_col0\" class=\"data row8 col0\" >0.779412</td>\n",
       "    </tr>\n",
       "    <tr>\n",
       "      <th id=\"T_69cbf_level1_row9\" class=\"row_heading level1 row9\" >3</th>\n",
       "      <td id=\"T_69cbf_row9_col0\" class=\"data row9 col0\" >0.351351</td>\n",
       "    </tr>\n",
       "    <tr>\n",
       "      <th id=\"T_69cbf_level1_row10\" class=\"row_heading level1 row10\" >4</th>\n",
       "      <td id=\"T_69cbf_row10_col0\" class=\"data row10 col0\" >0.027027</td>\n",
       "    </tr>\n",
       "    <tr>\n",
       "      <th id=\"T_69cbf_level0_row11\" class=\"row_heading level0 row11\" rowspan=\"5\">Recall</th>\n",
       "      <th id=\"T_69cbf_level1_row11\" class=\"row_heading level1 row11\" >0</th>\n",
       "      <td id=\"T_69cbf_row11_col0\" class=\"data row11 col0\" >0.400000</td>\n",
       "    </tr>\n",
       "    <tr>\n",
       "      <th id=\"T_69cbf_level1_row12\" class=\"row_heading level1 row12\" >1</th>\n",
       "      <td id=\"T_69cbf_row12_col0\" class=\"data row12 col0\" >0.081395</td>\n",
       "    </tr>\n",
       "    <tr>\n",
       "      <th id=\"T_69cbf_level1_row13\" class=\"row_heading level1 row13\" >2</th>\n",
       "      <td id=\"T_69cbf_row13_col0\" class=\"data row13 col0\" >0.738162</td>\n",
       "    </tr>\n",
       "    <tr>\n",
       "      <th id=\"T_69cbf_level1_row14\" class=\"row_heading level1 row14\" >3</th>\n",
       "      <td id=\"T_69cbf_row14_col0\" class=\"data row14 col0\" >0.180556</td>\n",
       "    </tr>\n",
       "    <tr>\n",
       "      <th id=\"T_69cbf_level1_row15\" class=\"row_heading level1 row15\" >4</th>\n",
       "      <td id=\"T_69cbf_row15_col0\" class=\"data row15 col0\" >0.222222</td>\n",
       "    </tr>\n",
       "  </tbody>\n",
       "</table>\n"
      ],
      "text/plain": [
       "<pandas.io.formats.style.Styler at 0x1db7b08ae50>"
      ]
     },
     "execution_count": 58,
     "metadata": {},
     "output_type": "execute_result"
    }
   ],
   "source": [
    "from seaborn import color_palette\n",
    "formatted_vals = {re.match(\"([a-zA-Z\\-]+)(?:\\s+\\[(\\d+)\\])?\",key).groups():[val] for key,val in analyze_dict.items()}\n",
    "pretty_df = pd.DataFrame(formatted_vals).transpose().sort_index()\n",
    "pretty_df.columns = [\"Value\"]\n",
    "pretty_df.index.set_names([\"Metric\",\"Class\"],inplace=True)\n",
    "pretty_df.style.background_gradient(cmap=\"Greens\")"
   ]
  },
  {
   "cell_type": "markdown",
   "metadata": {},
   "source": [
    "#### Question 14 [5 points]\n",
    "Now that we have trained our classifier, we can evaluate it on our testing set.\n",
    "\n",
    "Provide an interpretation of the class results as printed above. Does the classifier do well in general?\n",
    "Which classes does the classifier have an easier time predicting? \n",
    "\n",
    "The class labels are:\n",
    "0. negative\n",
    "1. somewhat negative\n",
    "2. neutral\n",
    "3. somewhat positive\n",
    "4. positive"
   ]
  },
  {
   "cell_type": "markdown",
   "metadata": {},
   "source": [
    "# Question 14\n",
    "Accuracy wasn't the top performer here  \n",
    "\n",
    "F-Measure had the highest score at neutral  \n",
    "Precision also had the highest score at neutral\n",
    "Recall also had the highest score at neutral. \n",
    "\n",
    "This performed just as well as it did the test and train sentiment in the earlier question without training it so while the accuracy score was low, using naiive bayes and testing it gave the same results as the original untrained data. So overall, this did pretty well to match the original data where we read in the original sentiment into a histogram. So why is the accuracy so low then? The training dataset uses (tokens, Sentiment) and the original set uses just sentiment. What was the accuracy measuring?"
   ]
  },
  {
   "cell_type": "markdown",
   "metadata": {},
   "source": [
    "Done! Save and submit your notebook on Canvas!"
   ]
  }
 ],
 "metadata": {
  "kernelspec": {
   "display_name": "Python 3",
   "language": "python",
   "name": "python3"
  },
  "language_info": {
   "codemirror_mode": {
    "name": "ipython",
    "version": 3
   },
   "file_extension": ".py",
   "mimetype": "text/x-python",
   "name": "python",
   "nbconvert_exporter": "python",
   "pygments_lexer": "ipython3",
   "version": "3.8.5"
  }
 },
 "nbformat": 4,
 "nbformat_minor": 1
}
